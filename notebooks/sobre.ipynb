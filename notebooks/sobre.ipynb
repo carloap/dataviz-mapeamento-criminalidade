{
 "cells": [
  {
   "cell_type": "markdown",
   "metadata": {},
   "source": [
    "# Pesquisa - Mapeamento de Criminalidade no Ceará"
   ]
  },
  {
   "cell_type": "markdown",
   "metadata": {},
   "source": [
    "#### Este notebook tem como objetivo carregar as bases de dados fragmentadas, obtidas da Secretaria de Segurança Pública e Defesa Social (SSPDS) do estado do Ceará, entre os anos de 2013 à 2021, transformar os dados, e gerar uma versão para estudo e exploração.\n",
    "#### As fontes dizem respeito aos registros de CRIMES VIOLENTOS LETAIS E INTENCIONAIS (CVLI), e embora alguns periodos tenham sido dificeis de obter/extrair, todos foram obtidos do órgão SSPDS-CE para este estudo."
   ]
  },
  {
   "cell_type": "markdown",
   "metadata": {},
   "source": [
    "## Objetivo da pesquisa\n",
    "\n",
    "- Prever possíveis fatores e variáveis ligadas a ocorrências de crime, roubos e homicídios.\n",
    "- Melhorar serviços de segurança, policiamento, controle e vigilância."
   ]
  },
  {
   "cell_type": "markdown",
   "metadata": {},
   "source": [
    "## Transformação dos dados\n",
    "- Formatação de tipo de variável.\n",
    "- Sanitização das bases de dados.\n",
    "- Gerado CSV para estudo."
   ]
  },
  {
   "cell_type": "markdown",
   "metadata": {},
   "source": [
    "## Analises exploratórias do projeto\n",
    "- Identificar ocorrências de crime ao longo do tempo, em um dataset de 28295 registros, entre 2013 à 2021.\n",
    "- Agrupar os dados e identificar motivo das ocorrências.\n",
    "- Encontrar anomalias em segurança insuficiente, falta de policiamento por região.\n",
    "- Impacto por região.\n"
   ]
  }
 ],
 "metadata": {
  "kernelspec": {
   "display_name": "Python 3",
   "language": "python",
   "name": "python3"
  },
  "language_info": {
   "codemirror_mode": {
    "name": "ipython",
    "version": 3
   },
   "file_extension": ".py",
   "mimetype": "text/x-python",
   "name": "python",
   "nbconvert_exporter": "python",
   "pygments_lexer": "ipython3",
   "version": "3.8.10"
  }
 },
 "nbformat": 4,
 "nbformat_minor": 4
}
