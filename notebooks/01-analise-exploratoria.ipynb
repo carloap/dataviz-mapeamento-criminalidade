{
 "cells": [
  {
   "cell_type": "markdown",
   "metadata": {},
   "source": [
    "# Análise Exploratória - Mapeamento de Criminalidade no Ceará\n",
    "\n",
    "Realizar uma análise exploratória de dados (EDA) de crimes por arma de fogo, roubos e homicídios"
   ]
  },
  {
   "cell_type": "markdown",
   "metadata": {},
   "source": [
    "## Importar bibliotecas"
   ]
  },
  {
   "cell_type": "code",
   "execution_count": 1,
   "metadata": {},
   "outputs": [],
   "source": [
    "import pandas as pd\n",
    "import numpy as np\n",
    "import matplotlib.pyplot as plt\n",
    "import seaborn as sns"
   ]
  },
  {
   "cell_type": "markdown",
   "metadata": {},
   "source": [
    "## Carregar o dataset de 2015 até hoje, exceto os 30 dias mais recentes"
   ]
  },
  {
   "cell_type": "code",
   "execution_count": 2,
   "metadata": {},
   "outputs": [],
   "source": [
    "# Separar as colunas desejáveis do conjunto de dados\n",
    "colunas = ['MUNICIPIO', 'NATUREZA DO FATO', 'ARMA UTILIZADA', 'DATA DA MORTE', 'SEXO', 'IDADE']\n",
    "\n",
    "# Carregar dataset e determinar as variáveis categóricas\n",
    "df_carga = pd.read_csv(r'../data/processed/sspds-ce/dataset_consolidado.csv', sep=\";\", usecols=colunas, \n",
    "    dtype={\n",
    "        'MUNICIPIO':'category', 'NATUREZA DO FATO':'category', 'ARMA UTILIZADA':'category', \n",
    "        'SEXO':'category', 'IDADE':'category' })"
   ]
  },
  {
   "cell_type": "markdown",
   "metadata": {},
   "source": [
    "## Formatar e converter colunas"
   ]
  },
  {
   "cell_type": "code",
   "execution_count": 3,
   "metadata": {},
   "outputs": [],
   "source": [
    "# Dividir o dataset entre os formatos de data #1 e #2\n",
    "df_data1 = pd.DataFrame(df_carga[df_carga['DATA DA MORTE'].str.contains(\"-\")])\n",
    "df_data2 = pd.DataFrame(df_carga[df_carga['DATA DA MORTE'].str.contains(\"/\")])\n",
    "\n",
    "# Quebrar em colunas para ajustar a formatação #1\n",
    "df_data1[['D', 'M', 'Y']] = df_data1['DATA DA MORTE'].str.split('-', 2, expand=True)\n",
    "df_data1['D'] = df_data1['D'].str.zfill(2)\n",
    "df_data1['M'] = df_data1['M'].str.capitalize()\n",
    "df_data1['M'] = df_data1['M'].replace('Fev', 'Feb').replace('Mai', 'May')\n",
    "df_data1['Y'] = df_data1['Y'].replace('15', '2015')\n",
    "# Concatenar o formato #1\n",
    "df_data1['DATA DA MORTE'] = df_data1['D']+\"-\"+df_data1['M']+\"-\"+df_data1['Y']\n",
    "\n",
    "# Coverter dataset formato #1\n",
    "df_data1['DATA'] = pd.to_datetime(df_data1['DATA DA MORTE'], format=\"%d-%b-%Y\")\n",
    "# Coverter dataset formato #2\n",
    "df_data2['DATA'] = pd.to_datetime(df_data2['DATA DA MORTE'], format=\"%d/%m/%Y\")\n",
    "\n",
    "# Eliminar colunas sem uso\n",
    "df_data1 = df_data1.drop(columns=['D','M','Y','DATA DA MORTE'])\n",
    "df_data2 = df_data2.drop(columns=['DATA DA MORTE'])\n",
    "\n",
    "# Juntar dataframes em um novo consolidado\n",
    "df_consolidado = pd.concat([df_data1, df_data2])"
   ]
  },
  {
   "cell_type": "code",
   "execution_count": 4,
   "metadata": {},
   "outputs": [
    {
     "data": {
      "text/plain": [
       "['26', '18', '35', NaN, '13', ..., '90', '6', '91', '94', '86']\n",
       "Length: 95\n",
       "Categories (94, object): ['0', '1', '10', '11', ..., '90', '91', '93', '94']"
      ]
     },
     "execution_count": 4,
     "metadata": {},
     "output_type": "execute_result"
    }
   ],
   "source": [
    "# Substituir valores vazios de IDADE, por NaN para o tipo categórico\n",
    "df_consolidado['IDADE'] = df_consolidado['IDADE'].replace('-', np.nan)\n",
    "df_consolidado['IDADE'] = df_consolidado['IDADE'].astype('category')\n",
    "df_consolidado['IDADE'].unique() # Identificar"
   ]
  },
  {
   "cell_type": "code",
   "execution_count": 5,
   "metadata": {},
   "outputs": [
    {
     "data": {
      "text/plain": [
       "['HOMICIDIO DOLOSO', 'ROUBO SEGUIDO DE MORTE (LATROCINIO)', 'LESAO CORPORAL SEGUIDA DE MORTE', NaN, 'FEMINICIDIO', 'MORTE SUSPEITA']\n",
       "Categories (5, object): ['FEMINICIDIO', 'HOMICIDIO DOLOSO', 'LESAO CORPORAL SEGUIDA DE MORTE', 'MORTE SUSPEITA', 'ROUBO SEGUIDO DE MORTE (LATROCINIO)']"
      ]
     },
     "execution_count": 5,
     "metadata": {},
     "output_type": "execute_result"
    }
   ],
   "source": [
    "# Verificar campos únicos de NATUREZA DO FATO, para formata-los\n",
    "df_consolidado['NATUREZA DO FATO'] = df_consolidado['NATUREZA DO FATO'].replace('FEMINICÍDIO','FEMINICIDIO')\n",
    "df_consolidado['NATUREZA DO FATO'] = df_consolidado['NATUREZA DO FATO'].replace('LESÃO CORPORAL SEGUIDA DE MORTE', 'LESAO CORPORAL SEGUIDA DE MORTE').replace('LESÃO CORPORAL SEGUIDO DE MORTE', 'LESAO CORPORAL SEGUIDA DE MORTE')\n",
    "df_consolidado['NATUREZA DO FATO'] = df_consolidado['NATUREZA DO FATO'].astype('category')\n",
    "df_consolidado['NATUREZA DO FATO'].unique() # Identificar"
   ]
  },
  {
   "cell_type": "code",
   "execution_count": 6,
   "metadata": {},
   "outputs": [
    {
     "data": {
      "text/plain": [
       "['M', 'F', 'I', NaN, 'NAO IDENTIFICADO', 'NI', 'NAO INFORMADO']\n",
       "Categories (6, object): ['F', 'I', 'M', 'NAO IDENTIFICADO', 'NAO INFORMADO', 'NI']"
      ]
     },
     "execution_count": 6,
     "metadata": {},
     "output_type": "execute_result"
    }
   ],
   "source": [
    "# Verificar campos únicos de SEXO, para formata-los\n",
    "df_consolidado['SEXO'] = df_consolidado['SEXO'].replace('-', np.nan)\n",
    "df_consolidado['SEXO'] = df_consolidado['SEXO'].str.upper()\n",
    "df_consolidado['SEXO'] = df_consolidado['SEXO'].replace('FEMININO','F').replace('FEMININO ','F').replace('F ','F')\n",
    "df_consolidado['SEXO'] = df_consolidado['SEXO'].replace('MASCULINO','M').replace('MASCULINO ','M').replace('M ','M')\n",
    "df_consolidado['SEXO'] = df_consolidado['SEXO'].replace('NÃO IDENTIFICADO', 'NAO IDENTIFICADO')\n",
    "df_consolidado['SEXO'] = df_consolidado['SEXO'].replace('NÃO INFORMADO','NAO INFORMADO')\n",
    "df_consolidado['SEXO'] = df_consolidado['SEXO'].astype('category')\n",
    "df_consolidado['SEXO'].unique() # Identificar"
   ]
  },
  {
   "cell_type": "code",
   "execution_count": 7,
   "metadata": {},
   "outputs": [
    {
     "data": {
      "text/plain": [
       "['ARMA DE FOGO', 'ARMA BRANCA', 'OUTROS', 'NI', NaN]\n",
       "Categories (4, object): ['ARMA BRANCA', 'ARMA DE FOGO', 'NI', 'OUTROS']"
      ]
     },
     "execution_count": 7,
     "metadata": {},
     "output_type": "execute_result"
    }
   ],
   "source": [
    "# Verificar o campo ARMA UTILIZADA por valores únicos\n",
    "df_consolidado['ARMA UTILIZADA'] = df_consolidado['ARMA UTILIZADA'].str.upper()\n",
    "df_consolidado['ARMA UTILIZADA'] = df_consolidado['ARMA UTILIZADA'].replace('OUTROS MEIOS', 'OUTROS').replace('ARMA OUTROS', 'OUTROS').replace('AMA OUTROS', 'OUTROS').replace('OUTRO', 'OUTROS')\n",
    "df_consolidado['ARMA UTILIZADA'] = df_consolidado['ARMA UTILIZADA'].replace('NÃO INFORMAD', 'NI').replace('MEIO NÃO INFORMADO', 'NI').replace('NÃO INFORMADO', 'NI')\n",
    "df_consolidado['ARMA UTILIZADA'] = df_consolidado['ARMA UTILIZADA'].replace('ARAMA BRANCA', 'ARMA BRANCA').replace('ARAMA DE BRANCA', 'ARMA BRANCA').replace('ARMA DE BRANCA', 'ARMA BRANCA')\n",
    "df_consolidado['ARMA UTILIZADA'] = df_consolidado['ARMA UTILIZADA'].replace('ARMADE FOGO', 'ARMA DE FOGO').replace('ARAMA DE FOGO', 'ARMA DE FOGO')\n",
    "df_consolidado['ARMA UTILIZADA'] = df_consolidado['ARMA UTILIZADA'].astype('category')\n",
    "df_consolidado['ARMA UTILIZADA'].unique() # Identificar"
   ]
  },
  {
   "cell_type": "markdown",
   "metadata": {},
   "source": [
    "## Prévia e informações preliminares sobre o Dataset"
   ]
  },
  {
   "cell_type": "code",
   "execution_count": 9,
   "metadata": {},
   "outputs": [
    {
     "data": {
      "text/html": [
       "<div>\n",
       "<style scoped>\n",
       "    .dataframe tbody tr th:only-of-type {\n",
       "        vertical-align: middle;\n",
       "    }\n",
       "\n",
       "    .dataframe tbody tr th {\n",
       "        vertical-align: top;\n",
       "    }\n",
       "\n",
       "    .dataframe thead th {\n",
       "        text-align: right;\n",
       "    }\n",
       "</style>\n",
       "<table border=\"1\" class=\"dataframe\">\n",
       "  <thead>\n",
       "    <tr style=\"text-align: right;\">\n",
       "      <th></th>\n",
       "      <th>MUNICIPIO</th>\n",
       "      <th>NATUREZA DO FATO</th>\n",
       "      <th>ARMA UTILIZADA</th>\n",
       "      <th>SEXO</th>\n",
       "      <th>IDADE</th>\n",
       "      <th>DATA</th>\n",
       "    </tr>\n",
       "  </thead>\n",
       "  <tbody>\n",
       "    <tr>\n",
       "      <th>0</th>\n",
       "      <td>Fortaleza</td>\n",
       "      <td>HOMICIDIO DOLOSO</td>\n",
       "      <td>ARMA DE FOGO</td>\n",
       "      <td>M</td>\n",
       "      <td>26</td>\n",
       "      <td>2015-12-01</td>\n",
       "    </tr>\n",
       "    <tr>\n",
       "      <th>1</th>\n",
       "      <td>Brejo Santo</td>\n",
       "      <td>HOMICIDIO DOLOSO</td>\n",
       "      <td>ARMA BRANCA</td>\n",
       "      <td>M</td>\n",
       "      <td>18</td>\n",
       "      <td>2015-12-01</td>\n",
       "    </tr>\n",
       "    <tr>\n",
       "      <th>2</th>\n",
       "      <td>Fortaleza</td>\n",
       "      <td>HOMICIDIO DOLOSO</td>\n",
       "      <td>ARMA DE FOGO</td>\n",
       "      <td>M</td>\n",
       "      <td>35</td>\n",
       "      <td>2015-12-01</td>\n",
       "    </tr>\n",
       "    <tr>\n",
       "      <th>3</th>\n",
       "      <td>Maracanaú</td>\n",
       "      <td>HOMICIDIO DOLOSO</td>\n",
       "      <td>ARMA DE FOGO</td>\n",
       "      <td>M</td>\n",
       "      <td>NaN</td>\n",
       "      <td>2015-12-01</td>\n",
       "    </tr>\n",
       "    <tr>\n",
       "      <th>4</th>\n",
       "      <td>Fortaleza</td>\n",
       "      <td>HOMICIDIO DOLOSO</td>\n",
       "      <td>ARMA DE FOGO</td>\n",
       "      <td>M</td>\n",
       "      <td>13</td>\n",
       "      <td>2015-12-01</td>\n",
       "    </tr>\n",
       "  </tbody>\n",
       "</table>\n",
       "</div>"
      ],
      "text/plain": [
       "     MUNICIPIO  NATUREZA DO FATO ARMA UTILIZADA SEXO IDADE       DATA\n",
       "0    Fortaleza  HOMICIDIO DOLOSO   ARMA DE FOGO    M    26 2015-12-01\n",
       "1  Brejo Santo  HOMICIDIO DOLOSO    ARMA BRANCA    M    18 2015-12-01\n",
       "2    Fortaleza  HOMICIDIO DOLOSO   ARMA DE FOGO    M    35 2015-12-01\n",
       "3    Maracanaú  HOMICIDIO DOLOSO   ARMA DE FOGO    M   NaN 2015-12-01\n",
       "4    Fortaleza  HOMICIDIO DOLOSO   ARMA DE FOGO    M    13 2015-12-01"
      ]
     },
     "execution_count": 9,
     "metadata": {},
     "output_type": "execute_result"
    }
   ],
   "source": [
    "# Prévia dos dados\n",
    "df_consolidado.head(5)"
   ]
  },
  {
   "cell_type": "code",
   "execution_count": 10,
   "metadata": {},
   "outputs": [
    {
     "name": "stdout",
     "output_type": "stream",
     "text": [
      "Quantidade de linhas e colunas: (25888, 6)\n",
      "Quantidade total de dados nulos: 1431\n"
     ]
    }
   ],
   "source": [
    "# Informações preliminares sobre o dataset\n",
    "print('Quantidade de linhas e colunas:', df_consolidado.shape)\n",
    "print('Quantidade total de dados nulos:', df_consolidado.isna().sum().sum())"
   ]
  },
  {
   "cell_type": "code",
   "execution_count": 11,
   "metadata": {},
   "outputs": [
    {
     "data": {
      "text/plain": [
       "MUNICIPIO                 category\n",
       "NATUREZA DO FATO          category\n",
       "ARMA UTILIZADA            category\n",
       "SEXO                      category\n",
       "IDADE                     category\n",
       "DATA                datetime64[ns]\n",
       "dtype: object"
      ]
     },
     "execution_count": 11,
     "metadata": {},
     "output_type": "execute_result"
    }
   ],
   "source": [
    "# Tipo de dados\n",
    "df_consolidado.dtypes"
   ]
  },
  {
   "cell_type": "markdown",
   "metadata": {},
   "source": [
    "### Onde estão os dados nulos?"
   ]
  },
  {
   "cell_type": "code",
   "execution_count": 12,
   "metadata": {},
   "outputs": [
    {
     "data": {
      "text/plain": [
       "MUNICIPIO              0\n",
       "NATUREZA DO FATO       9\n",
       "ARMA UTILIZADA        54\n",
       "SEXO                   6\n",
       "IDADE               1362\n",
       "DATA                   0\n",
       "dtype: int64"
      ]
     },
     "execution_count": 12,
     "metadata": {},
     "output_type": "execute_result"
    }
   ],
   "source": [
    "df_consolidado.isna().sum()"
   ]
  },
  {
   "cell_type": "code",
   "execution_count": null,
   "metadata": {},
   "outputs": [],
   "source": []
  },
  {
   "cell_type": "code",
   "execution_count": null,
   "metadata": {},
   "outputs": [],
   "source": []
  },
  {
   "cell_type": "code",
   "execution_count": null,
   "metadata": {},
   "outputs": [],
   "source": []
  },
  {
   "cell_type": "code",
   "execution_count": null,
   "metadata": {},
   "outputs": [],
   "source": []
  },
  {
   "cell_type": "code",
   "execution_count": null,
   "metadata": {},
   "outputs": [],
   "source": []
  },
  {
   "cell_type": "code",
   "execution_count": null,
   "metadata": {},
   "outputs": [],
   "source": []
  },
  {
   "cell_type": "code",
   "execution_count": null,
   "metadata": {},
   "outputs": [],
   "source": []
  },
  {
   "cell_type": "code",
   "execution_count": 80,
   "metadata": {},
   "outputs": [
    {
     "data": {
      "text/html": [
       "<div>\n",
       "<style scoped>\n",
       "    .dataframe tbody tr th:only-of-type {\n",
       "        vertical-align: middle;\n",
       "    }\n",
       "\n",
       "    .dataframe tbody tr th {\n",
       "        vertical-align: top;\n",
       "    }\n",
       "\n",
       "    .dataframe thead th {\n",
       "        text-align: right;\n",
       "    }\n",
       "</style>\n",
       "<table border=\"1\" class=\"dataframe\">\n",
       "  <thead>\n",
       "    <tr style=\"text-align: right;\">\n",
       "      <th></th>\n",
       "      <th>SEXO</th>\n",
       "      <th>TOTAL</th>\n",
       "    </tr>\n",
       "  </thead>\n",
       "  <tbody>\n",
       "    <tr>\n",
       "      <th>2</th>\n",
       "      <td>M</td>\n",
       "      <td>23759</td>\n",
       "    </tr>\n",
       "    <tr>\n",
       "      <th>0</th>\n",
       "      <td>F</td>\n",
       "      <td>2105</td>\n",
       "    </tr>\n",
       "    <tr>\n",
       "      <th>1</th>\n",
       "      <td>I</td>\n",
       "      <td>11</td>\n",
       "    </tr>\n",
       "    <tr>\n",
       "      <th>3</th>\n",
       "      <td>NAO IDENTIFICADO</td>\n",
       "      <td>5</td>\n",
       "    </tr>\n",
       "    <tr>\n",
       "      <th>4</th>\n",
       "      <td>NAO INFORMADO</td>\n",
       "      <td>1</td>\n",
       "    </tr>\n",
       "    <tr>\n",
       "      <th>5</th>\n",
       "      <td>NI</td>\n",
       "      <td>1</td>\n",
       "    </tr>\n",
       "  </tbody>\n",
       "</table>\n",
       "</div>"
      ],
      "text/plain": [
       "               SEXO  TOTAL\n",
       "2                 M  23759\n",
       "0                 F   2105\n",
       "1                 I     11\n",
       "3  NAO IDENTIFICADO      5\n",
       "4     NAO INFORMADO      1\n",
       "5                NI      1"
      ]
     },
     "execution_count": 80,
     "metadata": {},
     "output_type": "execute_result"
    }
   ],
   "source": [
    "df_grupo_sexo = pd.DataFrame(df_consolidado.groupby('SEXO').size().to_frame('TOTAL').reset_index())\n",
    "df_grupo_sexo = df_grupo_sexo.sort_values(by=['TOTAL'], ascending=False)\n",
    "df_grupo_sexo"
   ]
  },
  {
   "cell_type": "code",
   "execution_count": 82,
   "metadata": {},
   "outputs": [
    {
     "data": {
      "image/png": "[encoded data removed]",
      "text/plain": [
       "<Figure size 1080x360 with 1 Axes>"
      ]
     },
     "metadata": {
      "needs_background": "light"
     },
     "output_type": "display_data"
    }
   ],
   "source": [
    "plt.figure(figsize=(15,5))\n",
    "g = sns.barplot(data=df_grupo_sexo,\n",
    "            x = 'TOTAL',\n",
    "            y = 'SEXO',\n",
    "            color='orange'\n",
    "            )\n",
    "plt.show()"
   ]
  },
  {
   "cell_type": "code",
   "execution_count": null,
   "metadata": {},
   "outputs": [],
   "source": []
  },
  {
   "cell_type": "code",
   "execution_count": null,
   "metadata": {},
   "outputs": [],
   "source": [
    "# Formatar o tipo data\n",
    "df_estudo['data'] = pd.to_datetime(df_estudo['data'], format=\"%Y-%m-%d\")\n",
    "\n",
    "# Adicionar coluna formatada de vitimas por sexo\n",
    "df_estudo['vitimas_homem']  = np.where(df_estudo['sexo_vitima'] == 'MASCULINO', 1, 0)\n",
    "df_estudo['vitimas_mulher'] = np.where(df_estudo['sexo_vitima'] == 'FEMININO', 1, 0)\n",
    "\n",
    "# Separar o código do AIS para testes\n",
    "df_estudo['id_ais'] = df_estudo['ais'].str[4:].astype(int)\n",
    "\n",
    "df_estudo[:3]"
   ]
  },
  {
   "cell_type": "markdown",
   "metadata": {},
   "source": [
    "### Agrupar ocorrências por mês\n",
    "Ocorrências sumarizadas por mês ao longo do tempo, e maiores vítimas.\n",
    "\n",
    "> As maiores vítimas são homens, e existe um gap de coleta de dados de 2020, entre os meses março à dezembro, das bases extraídas"
   ]
  },
  {
   "cell_type": "code",
   "execution_count": null,
   "metadata": {},
   "outputs": [],
   "source": [
    "# Agrupar por mês em novo Dataframe\n",
    "agrupamento_mes = df_estudo.resample('M', on='data')\n",
    "\n",
    "df_periodo_m = pd.DataFrame()\n",
    "df_periodo_m['total_vitimas'] = agrupamento_mes['dummy_contagem'].count()\n",
    "df_periodo_m['total_vitimas_homem']  = agrupamento_mes['vitimas_homem'].sum()\n",
    "df_periodo_m['total_vitimas_mulher'] = agrupamento_mes['vitimas_mulher'].sum()\n",
    "df_periodo_m['mediana_idade'] = agrupamento_mes['idade_vitima'].median()"
   ]
  },
  {
   "cell_type": "code",
   "execution_count": null,
   "metadata": {},
   "outputs": [],
   "source": [
    "plt.figure(figsize=(15,5))\n",
    "sns.lineplot(data=df_periodo_m,\n",
    "            x = 'data',\n",
    "            y = 'total_vitimas'\n",
    "            )\n",
    "plt.show()"
   ]
  },
  {
   "cell_type": "code",
   "execution_count": null,
   "metadata": {},
   "outputs": [],
   "source": [
    "plt.figure(figsize=(15,5))\n",
    "sns.barplot(data=df_periodo_m, color='orange', orient='h')\n",
    "plt.show()"
   ]
  },
  {
   "cell_type": "markdown",
   "metadata": {},
   "source": [
    "### Agrupar ocorrências por natureza do fato\n",
    "Mostrar o volume de ocorrências por natureza do fato\n",
    "\n",
    "> A principal natureza do óbito é de Homicídio Doloso"
   ]
  },
  {
   "cell_type": "code",
   "execution_count": null,
   "metadata": {},
   "outputs": [],
   "source": [
    "# Agrupar por natureza\n",
    "agrupamento_natureza = pd.DataFrame([ df_estudo.groupby(['natureza_fato']).size() ])\n",
    "agrupamento_natureza"
   ]
  },
  {
   "cell_type": "code",
   "execution_count": null,
   "metadata": {},
   "outputs": [],
   "source": [
    "plt.figure(figsize=(15,5))\n",
    "sns.barplot(data=agrupamento_natureza, color='orange', orient='h',)\n",
    "plt.show()"
   ]
  },
  {
   "cell_type": "markdown",
   "metadata": {},
   "source": [
    "### Agrupar ocorrências por município\n",
    "Tentativa de encontrar desvio padrão de ocorrências por município de maior gravidade"
   ]
  },
  {
   "cell_type": "code",
   "execution_count": null,
   "metadata": {},
   "outputs": [],
   "source": [
    "# Agrupar por município\n",
    "agrupamento_municipio = pd.DataFrame([ df_estudo.groupby(['municipio']).size() ])\n",
    "agrupamento_municipio"
   ]
  },
  {
   "cell_type": "code",
   "execution_count": null,
   "metadata": {},
   "outputs": [],
   "source": [
    "# plt.figure(figsize=(15,5))\n",
    "# sns.barplot(data=agrupamento_municipio, color='blue', orient='h',)\n",
    "# plt.show()"
   ]
  },
  {
   "cell_type": "markdown",
   "metadata": {},
   "source": [
    "### Matriz de correlação\n",
    "Exigir grau de correlação das variáveis numéricas montadas"
   ]
  },
  {
   "cell_type": "code",
   "execution_count": null,
   "metadata": {},
   "outputs": [],
   "source": [
    "df_estudo.corr()"
   ]
  },
  {
   "cell_type": "code",
   "execution_count": null,
   "metadata": {},
   "outputs": [],
   "source": []
  }
 ],
 "metadata": {
  "kernelspec": {
   "display_name": "Python 3",
   "language": "python",
   "name": "python3"
  },
  "language_info": {
   "codemirror_mode": {
    "name": "ipython",
    "version": 3
   },
   "file_extension": ".py",
   "mimetype": "text/x-python",
   "name": "python",
   "nbconvert_exporter": "python",
   "pygments_lexer": "ipython3",
   "version": "3.8.2"
  }
 },
 "nbformat": 4,
 "nbformat_minor": 4
}
