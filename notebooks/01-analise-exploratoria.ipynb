{
 "cells": [
  {
   "cell_type": "markdown",
   "metadata": {},
   "source": [
    "# Exploração de dados - Mapeamento de Criminalidade no Ceará"
   ]
  },
  {
   "cell_type": "markdown",
   "metadata": {},
   "source": [
    "#### Este notebook tem como objetivo explorar os dados obtidos da Secretaria de Segurança Pública e Defesa Social (SSPDS) do estado do Ceará.\n",
    "#### As fontes dizem respeito aos registros de CRIMES VIOLENTOS LETAIS E INTENCIONAIS (CVLI), e embora alguns periodos tenham sido dificeis de obter/extrair, todos foram obtidos do órgão SSPDS-CE para este estudo."
   ]
  },
  {
   "cell_type": "code",
   "execution_count": 1,
   "metadata": {},
   "outputs": [],
   "source": [
    "# Importar bibliotecas\n",
    "import pandas as pd\n",
    "import numpy as np\n",
    "import matplotlib.pyplot as plt\n",
    "import seaborn as sns"
   ]
  },
  {
   "cell_type": "code",
   "execution_count": 2,
   "metadata": {},
   "outputs": [],
   "source": [
    "# Carregar csv de 2013 à 2021\n",
    "df_estudo = pd.read_csv(r'../data/processed/dt_estudo.csv')"
   ]
  },
  {
   "cell_type": "code",
   "execution_count": 3,
   "metadata": {},
   "outputs": [
    {
     "data": {
      "text/html": [
       "<div>\n",
       "<style scoped>\n",
       "    .dataframe tbody tr th:only-of-type {\n",
       "        vertical-align: middle;\n",
       "    }\n",
       "\n",
       "    .dataframe tbody tr th {\n",
       "        vertical-align: top;\n",
       "    }\n",
       "\n",
       "    .dataframe thead th {\n",
       "        text-align: right;\n",
       "    }\n",
       "</style>\n",
       "<table border=\"1\" class=\"dataframe\">\n",
       "  <thead>\n",
       "    <tr style=\"text-align: right;\">\n",
       "      <th></th>\n",
       "      <th>ais</th>\n",
       "      <th>municipio</th>\n",
       "      <th>arma_utilizada</th>\n",
       "      <th>natureza_fato</th>\n",
       "      <th>data</th>\n",
       "      <th>sexo_vitima</th>\n",
       "      <th>idade_vitima</th>\n",
       "      <th>id_base</th>\n",
       "      <th>dummy_contagem</th>\n",
       "      <th>vitimas_homem</th>\n",
       "      <th>vitimas_mulher</th>\n",
       "      <th>id_ais</th>\n",
       "    </tr>\n",
       "  </thead>\n",
       "  <tbody>\n",
       "    <tr>\n",
       "      <th>0</th>\n",
       "      <td>AIS 17</td>\n",
       "      <td>Apuiarés</td>\n",
       "      <td>Arma branca</td>\n",
       "      <td>HOMICIDIO DOLOSO</td>\n",
       "      <td>2017-12-10</td>\n",
       "      <td>FEMININO</td>\n",
       "      <td>20</td>\n",
       "      <td>1</td>\n",
       "      <td>1</td>\n",
       "      <td>0</td>\n",
       "      <td>1</td>\n",
       "      <td>17</td>\n",
       "    </tr>\n",
       "    <tr>\n",
       "      <th>1</th>\n",
       "      <td>AIS 14</td>\n",
       "      <td>São Benedito</td>\n",
       "      <td>Outros meios</td>\n",
       "      <td>HOMICIDIO DOLOSO</td>\n",
       "      <td>2017-12-11</td>\n",
       "      <td>FEMININO</td>\n",
       "      <td>45</td>\n",
       "      <td>1</td>\n",
       "      <td>1</td>\n",
       "      <td>0</td>\n",
       "      <td>1</td>\n",
       "      <td>14</td>\n",
       "    </tr>\n",
       "    <tr>\n",
       "      <th>2</th>\n",
       "      <td>AIS 16</td>\n",
       "      <td>Catunda</td>\n",
       "      <td>Outros meios</td>\n",
       "      <td>HOMICIDIO DOLOSO</td>\n",
       "      <td>2017-12-12</td>\n",
       "      <td>FEMININO</td>\n",
       "      <td>16</td>\n",
       "      <td>1</td>\n",
       "      <td>1</td>\n",
       "      <td>0</td>\n",
       "      <td>1</td>\n",
       "      <td>16</td>\n",
       "    </tr>\n",
       "  </tbody>\n",
       "</table>\n",
       "</div>"
      ],
      "text/plain": [
       "      ais     municipio arma_utilizada     natureza_fato       data  \\\n",
       "0  AIS 17      Apuiarés    Arma branca  HOMICIDIO DOLOSO 2017-12-10   \n",
       "1  AIS 14  São Benedito   Outros meios  HOMICIDIO DOLOSO 2017-12-11   \n",
       "2  AIS 16       Catunda   Outros meios  HOMICIDIO DOLOSO 2017-12-12   \n",
       "\n",
       "  sexo_vitima  idade_vitima  id_base  dummy_contagem  vitimas_homem  \\\n",
       "0    FEMININO            20        1               1              0   \n",
       "1    FEMININO            45        1               1              0   \n",
       "2    FEMININO            16        1               1              0   \n",
       "\n",
       "   vitimas_mulher  id_ais  \n",
       "0               1      17  \n",
       "1               1      14  \n",
       "2               1      16  "
      ]
     },
     "execution_count": 3,
     "metadata": {},
     "output_type": "execute_result"
    }
   ],
   "source": [
    "# Formatar o tipo data\n",
    "df_estudo['data'] = pd.to_datetime(df_estudo['data'], format=\"%Y-%m-%d\")\n",
    "\n",
    "# Adicionar coluna formatada de vitimas por sexo\n",
    "df_estudo['vitimas_homem']  = np.where(df_estudo['sexo_vitima'] == 'MASCULINO', 1, 0)\n",
    "df_estudo['vitimas_mulher'] = np.where(df_estudo['sexo_vitima'] == 'FEMININO', 1, 0)\n",
    "\n",
    "# Separar o código do AIS para testes\n",
    "df_estudo['id_ais'] = df_estudo['ais'].str[4:].astype(int)\n",
    "\n",
    "df_estudo[:3]"
   ]
  },
  {
   "cell_type": "markdown",
   "metadata": {},
   "source": [
    "### Agrupar ocorrências por mês\n",
    "Ocorrências sumarizadas por mês ao longo do tempo, e maiores vítimas.\n",
    "\n",
    "> As maiores vítimas são homens, e existe um gap de coleta de dados de 2020, entre os meses março à dezembro, das bases extraídas"
   ]
  },
  {
   "cell_type": "code",
   "execution_count": 4,
   "metadata": {},
   "outputs": [],
   "source": [
    "# Agrupar por mês em novo Dataframe\n",
    "agrupamento_mes = df_estudo.resample('M', on='data')\n",
    "\n",
    "df_periodo_m = pd.DataFrame()\n",
    "df_periodo_m['total_vitimas'] = agrupamento_mes['dummy_contagem'].count()\n",
    "df_periodo_m['total_vitimas_homem']  = agrupamento_mes['vitimas_homem'].sum()\n",
    "df_periodo_m['total_vitimas_mulher'] = agrupamento_mes['vitimas_mulher'].sum()\n",
    "df_periodo_m['mediana_idade'] = agrupamento_mes['idade_vitima'].median()"
   ]
  },
  {
   "cell_type": "code",
   "execution_count": 5,
   "metadata": {},
   "outputs": [
    {
     "data": {
      "image/png": "[encoded data removed]",
      "text/plain": [
       "<Figure size 1080x360 with 1 Axes>"
      ]
     },
     "metadata": {
      "needs_background": "light"
     },
     "output_type": "display_data"
    }
   ],
   "source": [
    "plt.figure(figsize=(15,5))\n",
    "sns.lineplot(data=df_periodo_m,\n",
    "            x = 'data',\n",
    "            y = 'total_vitimas'\n",
    "            )\n",
    "plt.show()"
   ]
  },
  {
   "cell_type": "code",
   "execution_count": 6,
   "metadata": {},
   "outputs": [
    {
     "data": {
      "image/png": "[encoded data removed]",
      "text/plain": [
       "<Figure size 1080x360 with 1 Axes>"
      ]
     },
     "metadata": {
      "needs_background": "light"
     },
     "output_type": "display_data"
    }
   ],
   "source": [
    "plt.figure(figsize=(15,5))\n",
    "sns.barplot(data=df_periodo_m, color='orange', orient='h')\n",
    "plt.show()"
   ]
  },
  {
   "cell_type": "markdown",
   "metadata": {},
   "source": [
    "### Agrupar ocorrências por natureza do fato\n",
    "Mostrar o volume de ocorrências por natureza do fato\n",
    "\n",
    "> A principal natureza do óbito é de Homicídio Doloso"
   ]
  },
  {
   "cell_type": "code",
   "execution_count": 7,
   "metadata": {},
   "outputs": [
    {
     "data": {
      "text/html": [
       "<div>\n",
       "<style scoped>\n",
       "    .dataframe tbody tr th:only-of-type {\n",
       "        vertical-align: middle;\n",
       "    }\n",
       "\n",
       "    .dataframe tbody tr th {\n",
       "        vertical-align: top;\n",
       "    }\n",
       "\n",
       "    .dataframe thead th {\n",
       "        text-align: right;\n",
       "    }\n",
       "</style>\n",
       "<table border=\"1\" class=\"dataframe\">\n",
       "  <thead>\n",
       "    <tr style=\"text-align: right;\">\n",
       "      <th>natureza_fato</th>\n",
       "      <th>FEMINICÍDIO</th>\n",
       "      <th>HOMICIDIO DOLOSO</th>\n",
       "      <th>HOMICÍDIO DECORRENTE DE OPOSIÇÃO À INTERVENÇÃO POLICIAL</th>\n",
       "      <th>LESAO CORPORAL SEGUIDA DE MORTE</th>\n",
       "      <th>ROUBO SEGUIDO DE MORTE (LATROCINIO)</th>\n",
       "    </tr>\n",
       "  </thead>\n",
       "  <tbody>\n",
       "    <tr>\n",
       "      <th>0</th>\n",
       "      <td>77</td>\n",
       "      <td>27854</td>\n",
       "      <td>153</td>\n",
       "      <td>81</td>\n",
       "      <td>129</td>\n",
       "    </tr>\n",
       "  </tbody>\n",
       "</table>\n",
       "</div>"
      ],
      "text/plain": [
       "natureza_fato  FEMINICÍDIO  HOMICIDIO DOLOSO  \\\n",
       "0                       77             27854   \n",
       "\n",
       "natureza_fato  HOMICÍDIO DECORRENTE DE OPOSIÇÃO À INTERVENÇÃO POLICIAL  \\\n",
       "0                                                            153         \n",
       "\n",
       "natureza_fato  LESAO CORPORAL SEGUIDA DE MORTE  \\\n",
       "0                                           81   \n",
       "\n",
       "natureza_fato  ROUBO SEGUIDO DE MORTE (LATROCINIO)  \n",
       "0                                              129  "
      ]
     },
     "execution_count": 7,
     "metadata": {},
     "output_type": "execute_result"
    }
   ],
   "source": [
    "# Agrupar por natureza\n",
    "agrupamento_natureza = pd.DataFrame([ df_estudo.groupby(['natureza_fato']).size() ])\n",
    "agrupamento_natureza"
   ]
  },
  {
   "cell_type": "code",
   "execution_count": 8,
   "metadata": {},
   "outputs": [
    {
     "data": {
      "image/png": "[encoded data removed]",
      "text/plain": [
       "<Figure size 1080x360 with 1 Axes>"
      ]
     },
     "metadata": {
      "needs_background": "light"
     },
     "output_type": "display_data"
    }
   ],
   "source": [
    "plt.figure(figsize=(15,5))\n",
    "sns.barplot(data=agrupamento_natureza, color='orange', orient='h',)\n",
    "plt.show()"
   ]
  },
  {
   "cell_type": "markdown",
   "metadata": {},
   "source": [
    "### Agrupar ocorrências por município\n",
    "Tentativa de encontrar desvio padrão de ocorrências por município de maior gravidade"
   ]
  },
  {
   "cell_type": "code",
   "execution_count": 9,
   "metadata": {},
   "outputs": [
    {
     "data": {
      "text/html": [
       "<div>\n",
       "<style scoped>\n",
       "    .dataframe tbody tr th:only-of-type {\n",
       "        vertical-align: middle;\n",
       "    }\n",
       "\n",
       "    .dataframe tbody tr th {\n",
       "        vertical-align: top;\n",
       "    }\n",
       "\n",
       "    .dataframe thead th {\n",
       "        text-align: right;\n",
       "    }\n",
       "</style>\n",
       "<table border=\"1\" class=\"dataframe\">\n",
       "  <thead>\n",
       "    <tr style=\"text-align: right;\">\n",
       "      <th>municipio</th>\n",
       "      <th>Abaiara</th>\n",
       "      <th>Acarape</th>\n",
       "      <th>Acaraú</th>\n",
       "      <th>Acopiara</th>\n",
       "      <th>Aiuaba</th>\n",
       "      <th>Alcântaras</th>\n",
       "      <th>Altaneira</th>\n",
       "      <th>Alto Santo</th>\n",
       "      <th>Amontada</th>\n",
       "      <th>Antonina do Norte</th>\n",
       "      <th>...</th>\n",
       "      <th>Trairi</th>\n",
       "      <th>Tururu</th>\n",
       "      <th>Ubajara</th>\n",
       "      <th>Umari</th>\n",
       "      <th>Umirim</th>\n",
       "      <th>Uruburetama</th>\n",
       "      <th>Uruoca</th>\n",
       "      <th>Varjota</th>\n",
       "      <th>Viçosa do Ceará</th>\n",
       "      <th>Várzea Alegre</th>\n",
       "    </tr>\n",
       "  </thead>\n",
       "  <tbody>\n",
       "    <tr>\n",
       "      <th>0</th>\n",
       "      <td>11</td>\n",
       "      <td>58</td>\n",
       "      <td>89</td>\n",
       "      <td>125</td>\n",
       "      <td>21</td>\n",
       "      <td>4</td>\n",
       "      <td>5</td>\n",
       "      <td>41</td>\n",
       "      <td>61</td>\n",
       "      <td>8</td>\n",
       "      <td>...</td>\n",
       "      <td>157</td>\n",
       "      <td>25</td>\n",
       "      <td>49</td>\n",
       "      <td>4</td>\n",
       "      <td>48</td>\n",
       "      <td>38</td>\n",
       "      <td>14</td>\n",
       "      <td>57</td>\n",
       "      <td>52</td>\n",
       "      <td>36</td>\n",
       "    </tr>\n",
       "  </tbody>\n",
       "</table>\n",
       "<p>1 rows × 184 columns</p>\n",
       "</div>"
      ],
      "text/plain": [
       "municipio  Abaiara  Acarape  Acaraú  Acopiara  Aiuaba  Alcântaras  Altaneira  \\\n",
       "0               11       58      89       125      21           4          5   \n",
       "\n",
       "municipio  Alto Santo  Amontada  Antonina do Norte  ...  Trairi  Tururu  \\\n",
       "0                  41        61                  8  ...     157      25   \n",
       "\n",
       "municipio  Ubajara  Umari  Umirim  Uruburetama  Uruoca  Varjota  \\\n",
       "0               49      4      48           38      14       57   \n",
       "\n",
       "municipio  Viçosa do Ceará  Várzea Alegre  \n",
       "0                       52             36  \n",
       "\n",
       "[1 rows x 184 columns]"
      ]
     },
     "execution_count": 9,
     "metadata": {},
     "output_type": "execute_result"
    }
   ],
   "source": [
    "# Agrupar por município\n",
    "agrupamento_municipio = pd.DataFrame([ df_estudo.groupby(['municipio']).size() ])\n",
    "agrupamento_municipio"
   ]
  },
  {
   "cell_type": "code",
   "execution_count": 10,
   "metadata": {},
   "outputs": [],
   "source": [
    "# plt.figure(figsize=(15,5))\n",
    "# sns.barplot(data=agrupamento_municipio, color='blue', orient='h',)\n",
    "# plt.show()"
   ]
  },
  {
   "cell_type": "markdown",
   "metadata": {},
   "source": [
    "### Matriz de correlação\n",
    "Exigir grau de correlação das variáveis numéricas montadas"
   ]
  },
  {
   "cell_type": "code",
   "execution_count": 11,
   "metadata": {},
   "outputs": [
    {
     "data": {
      "text/html": [
       "<div>\n",
       "<style scoped>\n",
       "    .dataframe tbody tr th:only-of-type {\n",
       "        vertical-align: middle;\n",
       "    }\n",
       "\n",
       "    .dataframe tbody tr th {\n",
       "        vertical-align: top;\n",
       "    }\n",
       "\n",
       "    .dataframe thead th {\n",
       "        text-align: right;\n",
       "    }\n",
       "</style>\n",
       "<table border=\"1\" class=\"dataframe\">\n",
       "  <thead>\n",
       "    <tr style=\"text-align: right;\">\n",
       "      <th></th>\n",
       "      <th>idade_vitima</th>\n",
       "      <th>id_base</th>\n",
       "      <th>dummy_contagem</th>\n",
       "      <th>vitimas_homem</th>\n",
       "      <th>vitimas_mulher</th>\n",
       "      <th>id_ais</th>\n",
       "    </tr>\n",
       "  </thead>\n",
       "  <tbody>\n",
       "    <tr>\n",
       "      <th>idade_vitima</th>\n",
       "      <td>1.000000</td>\n",
       "      <td>0.014894</td>\n",
       "      <td>NaN</td>\n",
       "      <td>-0.019006</td>\n",
       "      <td>0.019270</td>\n",
       "      <td>0.165574</td>\n",
       "    </tr>\n",
       "    <tr>\n",
       "      <th>id_base</th>\n",
       "      <td>0.014894</td>\n",
       "      <td>1.000000</td>\n",
       "      <td>NaN</td>\n",
       "      <td>-0.054960</td>\n",
       "      <td>0.054847</td>\n",
       "      <td>0.078684</td>\n",
       "    </tr>\n",
       "    <tr>\n",
       "      <th>dummy_contagem</th>\n",
       "      <td>NaN</td>\n",
       "      <td>NaN</td>\n",
       "      <td>NaN</td>\n",
       "      <td>NaN</td>\n",
       "      <td>NaN</td>\n",
       "      <td>NaN</td>\n",
       "    </tr>\n",
       "    <tr>\n",
       "      <th>vitimas_homem</th>\n",
       "      <td>-0.019006</td>\n",
       "      <td>-0.054960</td>\n",
       "      <td>NaN</td>\n",
       "      <td>1.000000</td>\n",
       "      <td>-0.999481</td>\n",
       "      <td>-0.002650</td>\n",
       "    </tr>\n",
       "    <tr>\n",
       "      <th>vitimas_mulher</th>\n",
       "      <td>0.019270</td>\n",
       "      <td>0.054847</td>\n",
       "      <td>NaN</td>\n",
       "      <td>-0.999481</td>\n",
       "      <td>1.000000</td>\n",
       "      <td>0.002436</td>\n",
       "    </tr>\n",
       "    <tr>\n",
       "      <th>id_ais</th>\n",
       "      <td>0.165574</td>\n",
       "      <td>0.078684</td>\n",
       "      <td>NaN</td>\n",
       "      <td>-0.002650</td>\n",
       "      <td>0.002436</td>\n",
       "      <td>1.000000</td>\n",
       "    </tr>\n",
       "  </tbody>\n",
       "</table>\n",
       "</div>"
      ],
      "text/plain": [
       "                idade_vitima   id_base  dummy_contagem  vitimas_homem  \\\n",
       "idade_vitima        1.000000  0.014894             NaN      -0.019006   \n",
       "id_base             0.014894  1.000000             NaN      -0.054960   \n",
       "dummy_contagem           NaN       NaN             NaN            NaN   \n",
       "vitimas_homem      -0.019006 -0.054960             NaN       1.000000   \n",
       "vitimas_mulher      0.019270  0.054847             NaN      -0.999481   \n",
       "id_ais              0.165574  0.078684             NaN      -0.002650   \n",
       "\n",
       "                vitimas_mulher    id_ais  \n",
       "idade_vitima          0.019270  0.165574  \n",
       "id_base               0.054847  0.078684  \n",
       "dummy_contagem             NaN       NaN  \n",
       "vitimas_homem        -0.999481 -0.002650  \n",
       "vitimas_mulher        1.000000  0.002436  \n",
       "id_ais                0.002436  1.000000  "
      ]
     },
     "execution_count": 11,
     "metadata": {},
     "output_type": "execute_result"
    }
   ],
   "source": [
    "df_estudo.corr()"
   ]
  },
  {
   "cell_type": "code",
   "execution_count": null,
   "metadata": {},
   "outputs": [],
   "source": []
  }
 ],
 "metadata": {
  "kernelspec": {
   "display_name": "Python 3",
   "language": "python",
   "name": "python3"
  },
  "language_info": {
   "codemirror_mode": {
    "name": "ipython",
    "version": 3
   },
   "file_extension": ".py",
   "mimetype": "text/x-python",
   "name": "python",
   "nbconvert_exporter": "python",
   "pygments_lexer": "ipython3",
   "version": "3.8.2"
  }
 },
 "nbformat": 4,
 "nbformat_minor": 4
}
