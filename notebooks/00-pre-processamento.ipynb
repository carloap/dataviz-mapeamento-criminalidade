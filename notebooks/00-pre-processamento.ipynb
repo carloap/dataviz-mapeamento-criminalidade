{
 "cells": [
  {
   "cell_type": "markdown",
   "metadata": {},
   "source": [
    "# ETL - Mapeamento de Criminalidade no Ceará"
   ]
  },
  {
   "cell_type": "markdown",
   "metadata": {},
   "source": [
    "#### Este notebook tem como objetivo carregar as bases de dados fragmentadas, obtidas da Secretaria de Segurança Pública e Defesa Social (SSPDS) do estado do Ceará, entre os anos de 2013 à 2021, transformar os dados, e gerar uma versão para estudo e exploração.\n",
    "#### As fontes dizem respeito aos registros de CRIMES VIOLENTOS LETAIS E INTENCIONAIS (CVLI), e embora alguns periodos tenham sido dificeis de obter/extrair, todos foram obtidos do órgão SSPDS-CE para este estudo."
   ]
  },
  {
   "cell_type": "code",
   "execution_count": 1,
   "metadata": {},
   "outputs": [],
   "source": [
    "# Importar bibliotecas\n",
    "import pandas as pd"
   ]
  },
  {
   "cell_type": "code",
   "execution_count": 2,
   "metadata": {},
   "outputs": [],
   "source": [
    "# Carregar as bases de 2013 à 2021 (2021 até 06)\n",
    "df_base2013a2017 = pd.read_excel(r'../data/external/sspceara/lista-de-vitimas-de-cvli-ceara-2013-a-2017.xlsx', skiprows=[0,1,2,3,4])\n",
    "df_base2017a2018 = pd.read_excel(r'../data/external/sspceara/cvli-e-intervencao-policial-nos-anos-de-2017-e-2018.xlsx')\n",
    "df_base2019a2020 = pd.read_excel(r'../data/external/sspceara/lista-nominal_2019-a-fev2020.xlsx', skiprows=[0,1,2,3,4])\n",
    "df_base2021parcial = pd.read_excel(r'../data/external/sspceara/CVLI_2021_01a06.xls')"
   ]
  },
  {
   "cell_type": "markdown",
   "metadata": {},
   "source": [
    "### Padronização das colunas\n",
    "As bases serão formatadas para trabalhar com esse padrão de nominação de colunas\n",
    "- ais | municipio | arma_utilizada | natureza_fato | data | sexo_vitima | idade_vitima | dummy_contagem"
   ]
  },
  {
   "cell_type": "markdown",
   "metadata": {},
   "source": [
    "#### Ajustar base de 2013-2017"
   ]
  },
  {
   "cell_type": "code",
   "execution_count": 3,
   "metadata": {},
   "outputs": [],
   "source": [
    "# Filtrar para eliminar dados incompletos\n",
    "df_base2013a2017 = df_base2013a2017[df_base2013a2017['IDADE'] != 'NI']\n",
    "\n",
    "# Criar dataframe auxiliar 1\n",
    "df_aux1 = pd.DataFrame()\n",
    "df_aux1['ais'] = df_base2013a2017['AIS']\n",
    "df_aux1['municipio'] = df_base2013a2017['MUNICÍPIO']\n",
    "df_aux1['arma_utilizada'] = df_base2013a2017['ARMA UTILIZADA'].replace('ARMA BRANCA', 'Arma branca').replace('ARMA DE FOGO', 'Arma de fogo').replace('OUTROS', 'Outros meios').replace('NÃO INFORMADO', 'Meio não informado')\n",
    "df_aux1['natureza_fato'] = df_base2013a2017['NATUREZA DO FATO']\n",
    "df_aux1['data'] = pd.to_datetime(df_base2013a2017['DATA'], format=\"%Y-%m-%d\")\n",
    "df_aux1['sexo_vitima'] = df_base2013a2017['SEXO']\n",
    "df_aux1['idade_vitima'] = df_base2013a2017['IDADE'].astype(int)\n",
    "df_aux1['id_base'] = 1\n",
    "\n",
    "# df_aux1.dtypes\n",
    "# df_aux1['arma_utilizada'].unique()\n",
    "# df_aux1.describe()"
   ]
  },
  {
   "cell_type": "markdown",
   "metadata": {},
   "source": [
    "#### Ajustar base de 2017-2018\n",
    "E obter somente os dados de 2018 dessa série"
   ]
  },
  {
   "cell_type": "code",
   "execution_count": 4,
   "metadata": {},
   "outputs": [],
   "source": [
    "# Ajustar base 2017-2018\n",
    "\n",
    "# dicionário para mapear os meses\n",
    "dict_mes = {\n",
    "    \"Janeiro\":\"01\", \"Fevereiro\":\"02\", \"Março\":\"03\",\n",
    "    \"Abril\":\"04\", \"Maio\":\"05\", \"Junho\":\"06\",\n",
    "    \"Julho\":\"07\", \"Agosto\":\"08\", \"Setembro\":\"09\",\n",
    "    \"Outubro\":\"10\", \"Novembro\":\"11\", \"Dezembro\":\"12\",\n",
    "}\n",
    "\n",
    "# Filtrar para eliminar dados incompletos e possíveis duplicados\n",
    "df_base2017a2018 = df_base2017a2018[df_base2017a2018['ANO'].astype(str) == \"2018\"] # filtrar somente dados de 2018\n",
    "\n",
    "# Criar dataframe auxiliar 2\n",
    "df_aux2 = pd.DataFrame()\n",
    "df_aux2['ais'] = df_base2017a2018['AIS']\n",
    "df_aux2['municipio'] = df_base2017a2018['MUNICÍPIO']\n",
    "df_aux2['arma_utilizada'] = df_base2017a2018['TIPO_ARMA']\n",
    "df_aux2['natureza_fato'] = df_base2017a2018['NATUREZA']\n",
    "df_aux2['data'] = pd.to_datetime((df_base2017a2018['ANO'].astype(str) + \"-\" + df_base2017a2018['MÊS'].replace(dict_mes) + \"-01\"), format=\"%Y-%m-%d\")\n",
    "df_aux2['sexo_vitima'] = df_base2017a2018['SEXO'].replace('Masculino', 'MASCULINO').replace('Feminino', 'FEMININO').replace('Não Informado', 'NAO INFORMADO')\n",
    "df_aux2['idade_vitima'] = df_base2017a2018['IDADE'].astype(str).str.replace('-','0').astype(int)\n",
    "df_aux2['id_base'] = 2\n",
    "\n",
    "# df_aux2.dtypes\n",
    "# df_aux2['arma_utilizada'].unique()\n",
    "# df_aux2.describe()"
   ]
  },
  {
   "cell_type": "markdown",
   "metadata": {},
   "source": [
    "#### Ajustar base de 2019-2020"
   ]
  },
  {
   "cell_type": "code",
   "execution_count": 5,
   "metadata": {},
   "outputs": [],
   "source": [
    "# Ajustar base 2019-2020\n",
    "df_aux3 = pd.DataFrame()\n",
    "df_aux3['ais'] = df_base2019a2020['AIS']\n",
    "df_aux3['municipio'] = df_base2019a2020['MUNICÍPIO']\n",
    "df_aux3['arma_utilizada'] = df_base2019a2020['ARMA UTILIZADA']\n",
    "df_aux3['natureza_fato'] = df_base2019a2020['NATUREZA DO FATO']\n",
    "df_aux3['data'] = df_base2019a2020['DATA']\n",
    "df_aux3['sexo_vitima'] = df_base2019a2020['SEXO'].replace('Masculino', 'MASCULINO').replace('Feminino', 'FEMININO')\n",
    "df_aux3['idade_vitima'] = df_base2019a2020['IDADE'].astype(str).str.replace('-','0').astype(int)\n",
    "df_aux3['id_base'] = 3\n",
    "\n",
    "# df_aux3.dtypes\n",
    "# df_aux3['arma_utilizada'].unique()\n",
    "# df_aux3.describe()"
   ]
  },
  {
   "cell_type": "markdown",
   "metadata": {},
   "source": [
    "#### Ajustar base de 2021"
   ]
  },
  {
   "cell_type": "code",
   "execution_count": 6,
   "metadata": {},
   "outputs": [],
   "source": [
    "# Ajustar base parcial de 2021 (até junho)\n",
    "df_aux4 = pd.DataFrame()\n",
    "df_aux4['ais'] = df_base2021parcial['AIS']\n",
    "df_aux4['municipio'] = df_base2021parcial['Município']\n",
    "df_aux4['arma_utilizada'] = df_base2021parcial['Tipo de Arma']\n",
    "df_aux4['natureza_fato'] = df_base2021parcial['Natureza']\n",
    "df_aux4['data'] = df_base2021parcial['Data']\n",
    "df_aux4['sexo_vitima'] = df_base2021parcial['Gênero'].replace('Masculino', 'MASCULINO').replace('Feminino', 'FEMININO')\n",
    "df_aux4['idade_vitima'] = df_base2021parcial['Idade da Vítima'].astype(str).str.replace('Não Informada','0').astype(int)\n",
    "df_aux4['id_base'] = 4\n",
    "\n",
    "# df_aux4.dtypes\n",
    "# df_aux4['arma_utilizada'].unique()\n",
    "# df_aux4.describe()"
   ]
  },
  {
   "cell_type": "markdown",
   "metadata": {},
   "source": [
    "#### Unificar todas as bases: série de 2013 à 2021"
   ]
  },
  {
   "cell_type": "code",
   "execution_count": 7,
   "metadata": {},
   "outputs": [],
   "source": [
    "# DataFrame para o estudo\n",
    "df_estudo = pd.concat([df_aux1, df_aux2, df_aux3, df_aux4])\n",
    "df_estudo['dummy_contagem'] = 1 # coluna fictícia para contagem\n",
    "\n",
    "# Escrever arquivo CSV para o estudo\n",
    "df_estudo.to_csv('../data/processed/dt_estudo.csv', index=False)"
   ]
  }
 ],
 "metadata": {
  "interpreter": {
   "hash": "36ec02136219e63092b98faa7ba4bcc4860f98167471edfbf78ab8b89db9e559"
  },
  "kernelspec": {
   "display_name": "Python 3.7.4 64-bit ('venv': venv)",
   "name": "python3"
  },
  "language_info": {
   "codemirror_mode": {
    "name": "ipython",
    "version": 3
   },
   "file_extension": ".py",
   "mimetype": "text/x-python",
   "name": "python",
   "nbconvert_exporter": "python",
   "pygments_lexer": "ipython3",
   "version": "3.8.2"
  }
 },
 "nbformat": 4,
 "nbformat_minor": 4
}
